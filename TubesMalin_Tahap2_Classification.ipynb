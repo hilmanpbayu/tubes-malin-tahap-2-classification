{
  "nbformat": 4,
  "nbformat_minor": 0,
  "metadata": {
    "colab": {
      "name": "TubesMalin_Tahap2_Classification.ipynb",
      "provenance": [],
      "collapsed_sections": []
    },
    "kernelspec": {
      "name": "python3",
      "display_name": "Python 3"
    },
    "language_info": {
      "name": "python"
    }
  },
  "cells": [
    {
      "cell_type": "code",
      "metadata": {
        "id": "43uJSC3yJHbF"
      },
      "source": [
        "# Hilman Bayu Aji - 1301180397\n",
        "# Ramawaldi Putra - 1301164506\n",
        "# IFX-44-GAB"
      ],
      "execution_count": 1,
      "outputs": []
    },
    {
      "cell_type": "markdown",
      "metadata": {
        "id": "azpyoRURIzWW"
      },
      "source": [
        "# **Import Library**"
      ]
    },
    {
      "cell_type": "code",
      "metadata": {
        "id": "bQLSV-ebJQ0D"
      },
      "source": [
        "import pandas as pd #Pengolahan dataframe\n",
        "import numpy as np #Perhitungan matematika\n",
        "import matplotlib.pyplot as plt #Visualisasi\n",
        "import seaborn as sns #Visualisasi\n",
        "from sklearn.preprocessing import MinMaxScaler #Normalisasi\n",
        "from sklearn.neighbors import KNeighborsClassifier #Untuk metode klasifikasi\n",
        "from sklearn.metrics import f1_score as f1 #Untuk evaluasi"
      ],
      "execution_count": 2,
      "outputs": []
    },
    {
      "cell_type": "markdown",
      "metadata": {
        "id": "iqaW7HOFK4hr"
      },
      "source": [
        "# **Load Data**"
      ]
    },
    {
      "cell_type": "code",
      "metadata": {
        "id": "uleLeK5FK7uX",
        "colab": {
          "base_uri": "https://localhost:8080/",
          "height": 423
        },
        "outputId": "9bf1b248-c572-495d-bd4d-d449bbf57596"
      },
      "source": [
        "df_test = pd.read_csv('https://raw.githubusercontent.com/hilmanpbayu/tubes-malin-tahap-2-classification/main/Dataset/kendaraan_test.csv')\n",
        "df_test"
      ],
      "execution_count": 3,
      "outputs": [
        {
          "output_type": "execute_result",
          "data": {
            "text/html": [
              "<div>\n",
              "<style scoped>\n",
              "    .dataframe tbody tr th:only-of-type {\n",
              "        vertical-align: middle;\n",
              "    }\n",
              "\n",
              "    .dataframe tbody tr th {\n",
              "        vertical-align: top;\n",
              "    }\n",
              "\n",
              "    .dataframe thead th {\n",
              "        text-align: right;\n",
              "    }\n",
              "</style>\n",
              "<table border=\"1\" class=\"dataframe\">\n",
              "  <thead>\n",
              "    <tr style=\"text-align: right;\">\n",
              "      <th></th>\n",
              "      <th>Jenis_Kelamin</th>\n",
              "      <th>Umur</th>\n",
              "      <th>SIM</th>\n",
              "      <th>Kode_Daerah</th>\n",
              "      <th>Sudah_Asuransi</th>\n",
              "      <th>Umur_Kendaraan</th>\n",
              "      <th>Kendaraan_Rusak</th>\n",
              "      <th>Premi</th>\n",
              "      <th>Kanal_Penjualan</th>\n",
              "      <th>Lama_Berlangganan</th>\n",
              "      <th>Tertarik</th>\n",
              "    </tr>\n",
              "  </thead>\n",
              "  <tbody>\n",
              "    <tr>\n",
              "      <th>0</th>\n",
              "      <td>Wanita</td>\n",
              "      <td>49</td>\n",
              "      <td>1</td>\n",
              "      <td>8</td>\n",
              "      <td>0</td>\n",
              "      <td>1-2 Tahun</td>\n",
              "      <td>Pernah</td>\n",
              "      <td>46963</td>\n",
              "      <td>26</td>\n",
              "      <td>145</td>\n",
              "      <td>0</td>\n",
              "    </tr>\n",
              "    <tr>\n",
              "      <th>1</th>\n",
              "      <td>Pria</td>\n",
              "      <td>22</td>\n",
              "      <td>1</td>\n",
              "      <td>47</td>\n",
              "      <td>1</td>\n",
              "      <td>&lt; 1 Tahun</td>\n",
              "      <td>Tidak</td>\n",
              "      <td>39624</td>\n",
              "      <td>152</td>\n",
              "      <td>241</td>\n",
              "      <td>0</td>\n",
              "    </tr>\n",
              "    <tr>\n",
              "      <th>2</th>\n",
              "      <td>Pria</td>\n",
              "      <td>24</td>\n",
              "      <td>1</td>\n",
              "      <td>28</td>\n",
              "      <td>1</td>\n",
              "      <td>&lt; 1 Tahun</td>\n",
              "      <td>Tidak</td>\n",
              "      <td>110479</td>\n",
              "      <td>152</td>\n",
              "      <td>62</td>\n",
              "      <td>0</td>\n",
              "    </tr>\n",
              "    <tr>\n",
              "      <th>3</th>\n",
              "      <td>Pria</td>\n",
              "      <td>46</td>\n",
              "      <td>1</td>\n",
              "      <td>8</td>\n",
              "      <td>1</td>\n",
              "      <td>1-2 Tahun</td>\n",
              "      <td>Tidak</td>\n",
              "      <td>36266</td>\n",
              "      <td>124</td>\n",
              "      <td>34</td>\n",
              "      <td>0</td>\n",
              "    </tr>\n",
              "    <tr>\n",
              "      <th>4</th>\n",
              "      <td>Pria</td>\n",
              "      <td>35</td>\n",
              "      <td>1</td>\n",
              "      <td>23</td>\n",
              "      <td>0</td>\n",
              "      <td>1-2 Tahun</td>\n",
              "      <td>Pernah</td>\n",
              "      <td>26963</td>\n",
              "      <td>152</td>\n",
              "      <td>229</td>\n",
              "      <td>0</td>\n",
              "    </tr>\n",
              "    <tr>\n",
              "      <th>...</th>\n",
              "      <td>...</td>\n",
              "      <td>...</td>\n",
              "      <td>...</td>\n",
              "      <td>...</td>\n",
              "      <td>...</td>\n",
              "      <td>...</td>\n",
              "      <td>...</td>\n",
              "      <td>...</td>\n",
              "      <td>...</td>\n",
              "      <td>...</td>\n",
              "      <td>...</td>\n",
              "    </tr>\n",
              "    <tr>\n",
              "      <th>47634</th>\n",
              "      <td>Pria</td>\n",
              "      <td>61</td>\n",
              "      <td>1</td>\n",
              "      <td>46</td>\n",
              "      <td>0</td>\n",
              "      <td>&gt; 2 Tahun</td>\n",
              "      <td>Pernah</td>\n",
              "      <td>31039</td>\n",
              "      <td>124</td>\n",
              "      <td>67</td>\n",
              "      <td>0</td>\n",
              "    </tr>\n",
              "    <tr>\n",
              "      <th>47635</th>\n",
              "      <td>Pria</td>\n",
              "      <td>41</td>\n",
              "      <td>1</td>\n",
              "      <td>15</td>\n",
              "      <td>0</td>\n",
              "      <td>1-2 Tahun</td>\n",
              "      <td>Pernah</td>\n",
              "      <td>2630</td>\n",
              "      <td>157</td>\n",
              "      <td>232</td>\n",
              "      <td>0</td>\n",
              "    </tr>\n",
              "    <tr>\n",
              "      <th>47636</th>\n",
              "      <td>Pria</td>\n",
              "      <td>24</td>\n",
              "      <td>1</td>\n",
              "      <td>29</td>\n",
              "      <td>1</td>\n",
              "      <td>&lt; 1 Tahun</td>\n",
              "      <td>Tidak</td>\n",
              "      <td>33101</td>\n",
              "      <td>152</td>\n",
              "      <td>211</td>\n",
              "      <td>0</td>\n",
              "    </tr>\n",
              "    <tr>\n",
              "      <th>47637</th>\n",
              "      <td>Pria</td>\n",
              "      <td>59</td>\n",
              "      <td>1</td>\n",
              "      <td>30</td>\n",
              "      <td>0</td>\n",
              "      <td>1-2 Tahun</td>\n",
              "      <td>Pernah</td>\n",
              "      <td>37788</td>\n",
              "      <td>26</td>\n",
              "      <td>239</td>\n",
              "      <td>1</td>\n",
              "    </tr>\n",
              "    <tr>\n",
              "      <th>47638</th>\n",
              "      <td>Pria</td>\n",
              "      <td>52</td>\n",
              "      <td>1</td>\n",
              "      <td>31</td>\n",
              "      <td>0</td>\n",
              "      <td>1-2 Tahun</td>\n",
              "      <td>Tidak</td>\n",
              "      <td>2630</td>\n",
              "      <td>124</td>\n",
              "      <td>170</td>\n",
              "      <td>0</td>\n",
              "    </tr>\n",
              "  </tbody>\n",
              "</table>\n",
              "<p>47639 rows × 11 columns</p>\n",
              "</div>"
            ],
            "text/plain": [
              "      Jenis_Kelamin  Umur  SIM  ...  Kanal_Penjualan  Lama_Berlangganan Tertarik\n",
              "0            Wanita    49    1  ...               26                145        0\n",
              "1              Pria    22    1  ...              152                241        0\n",
              "2              Pria    24    1  ...              152                 62        0\n",
              "3              Pria    46    1  ...              124                 34        0\n",
              "4              Pria    35    1  ...              152                229        0\n",
              "...             ...   ...  ...  ...              ...                ...      ...\n",
              "47634          Pria    61    1  ...              124                 67        0\n",
              "47635          Pria    41    1  ...              157                232        0\n",
              "47636          Pria    24    1  ...              152                211        0\n",
              "47637          Pria    59    1  ...               26                239        1\n",
              "47638          Pria    52    1  ...              124                170        0\n",
              "\n",
              "[47639 rows x 11 columns]"
            ]
          },
          "metadata": {},
          "execution_count": 3
        }
      ]
    },
    {
      "cell_type": "code",
      "metadata": {
        "id": "8DlEvontLReA",
        "colab": {
          "base_uri": "https://localhost:8080/",
          "height": 423
        },
        "outputId": "4280e13b-a8a0-4833-b5e7-93ec8d31f923"
      },
      "source": [
        "df = pd.read_csv('https://raw.githubusercontent.com/hilmanpbayu/tubes-malin-tahap-2-classification/main/Dataset/kendaraan_train.csv')\n",
        "\n",
        "#Mengubah None menjadi NaN\n",
        "df.replace(\"\", np.NaN, inplace = True)\n",
        "df[df.isna().any(axis = 1)]\n",
        "df"
      ],
      "execution_count": 4,
      "outputs": [
        {
          "output_type": "execute_result",
          "data": {
            "text/html": [
              "<div>\n",
              "<style scoped>\n",
              "    .dataframe tbody tr th:only-of-type {\n",
              "        vertical-align: middle;\n",
              "    }\n",
              "\n",
              "    .dataframe tbody tr th {\n",
              "        vertical-align: top;\n",
              "    }\n",
              "\n",
              "    .dataframe thead th {\n",
              "        text-align: right;\n",
              "    }\n",
              "</style>\n",
              "<table border=\"1\" class=\"dataframe\">\n",
              "  <thead>\n",
              "    <tr style=\"text-align: right;\">\n",
              "      <th></th>\n",
              "      <th>id</th>\n",
              "      <th>Jenis_Kelamin</th>\n",
              "      <th>Umur</th>\n",
              "      <th>SIM</th>\n",
              "      <th>Kode_Daerah</th>\n",
              "      <th>Sudah_Asuransi</th>\n",
              "      <th>Umur_Kendaraan</th>\n",
              "      <th>Kendaraan_Rusak</th>\n",
              "      <th>Premi</th>\n",
              "      <th>Kanal_Penjualan</th>\n",
              "      <th>Lama_Berlangganan</th>\n",
              "      <th>Tertarik</th>\n",
              "    </tr>\n",
              "  </thead>\n",
              "  <tbody>\n",
              "    <tr>\n",
              "      <th>0</th>\n",
              "      <td>1</td>\n",
              "      <td>Wanita</td>\n",
              "      <td>30.0</td>\n",
              "      <td>1.0</td>\n",
              "      <td>33.0</td>\n",
              "      <td>1.0</td>\n",
              "      <td>&lt; 1 Tahun</td>\n",
              "      <td>Tidak</td>\n",
              "      <td>28029.0</td>\n",
              "      <td>152.0</td>\n",
              "      <td>97.0</td>\n",
              "      <td>0</td>\n",
              "    </tr>\n",
              "    <tr>\n",
              "      <th>1</th>\n",
              "      <td>2</td>\n",
              "      <td>Pria</td>\n",
              "      <td>48.0</td>\n",
              "      <td>1.0</td>\n",
              "      <td>39.0</td>\n",
              "      <td>0.0</td>\n",
              "      <td>&gt; 2 Tahun</td>\n",
              "      <td>Pernah</td>\n",
              "      <td>25800.0</td>\n",
              "      <td>29.0</td>\n",
              "      <td>158.0</td>\n",
              "      <td>0</td>\n",
              "    </tr>\n",
              "    <tr>\n",
              "      <th>2</th>\n",
              "      <td>3</td>\n",
              "      <td>NaN</td>\n",
              "      <td>21.0</td>\n",
              "      <td>1.0</td>\n",
              "      <td>46.0</td>\n",
              "      <td>1.0</td>\n",
              "      <td>&lt; 1 Tahun</td>\n",
              "      <td>Tidak</td>\n",
              "      <td>32733.0</td>\n",
              "      <td>160.0</td>\n",
              "      <td>119.0</td>\n",
              "      <td>0</td>\n",
              "    </tr>\n",
              "    <tr>\n",
              "      <th>3</th>\n",
              "      <td>4</td>\n",
              "      <td>Wanita</td>\n",
              "      <td>58.0</td>\n",
              "      <td>1.0</td>\n",
              "      <td>48.0</td>\n",
              "      <td>0.0</td>\n",
              "      <td>1-2 Tahun</td>\n",
              "      <td>Tidak</td>\n",
              "      <td>2630.0</td>\n",
              "      <td>124.0</td>\n",
              "      <td>63.0</td>\n",
              "      <td>0</td>\n",
              "    </tr>\n",
              "    <tr>\n",
              "      <th>4</th>\n",
              "      <td>5</td>\n",
              "      <td>Pria</td>\n",
              "      <td>50.0</td>\n",
              "      <td>1.0</td>\n",
              "      <td>35.0</td>\n",
              "      <td>0.0</td>\n",
              "      <td>&gt; 2 Tahun</td>\n",
              "      <td>NaN</td>\n",
              "      <td>34857.0</td>\n",
              "      <td>88.0</td>\n",
              "      <td>194.0</td>\n",
              "      <td>0</td>\n",
              "    </tr>\n",
              "    <tr>\n",
              "      <th>...</th>\n",
              "      <td>...</td>\n",
              "      <td>...</td>\n",
              "      <td>...</td>\n",
              "      <td>...</td>\n",
              "      <td>...</td>\n",
              "      <td>...</td>\n",
              "      <td>...</td>\n",
              "      <td>...</td>\n",
              "      <td>...</td>\n",
              "      <td>...</td>\n",
              "      <td>...</td>\n",
              "      <td>...</td>\n",
              "    </tr>\n",
              "    <tr>\n",
              "      <th>285826</th>\n",
              "      <td>285827</td>\n",
              "      <td>Wanita</td>\n",
              "      <td>23.0</td>\n",
              "      <td>1.0</td>\n",
              "      <td>4.0</td>\n",
              "      <td>1.0</td>\n",
              "      <td>&lt; 1 Tahun</td>\n",
              "      <td>Tidak</td>\n",
              "      <td>25988.0</td>\n",
              "      <td>152.0</td>\n",
              "      <td>217.0</td>\n",
              "      <td>0</td>\n",
              "    </tr>\n",
              "    <tr>\n",
              "      <th>285827</th>\n",
              "      <td>285828</td>\n",
              "      <td>Wanita</td>\n",
              "      <td>21.0</td>\n",
              "      <td>1.0</td>\n",
              "      <td>46.0</td>\n",
              "      <td>1.0</td>\n",
              "      <td>&lt; 1 Tahun</td>\n",
              "      <td>Tidak</td>\n",
              "      <td>44686.0</td>\n",
              "      <td>152.0</td>\n",
              "      <td>50.0</td>\n",
              "      <td>0</td>\n",
              "    </tr>\n",
              "    <tr>\n",
              "      <th>285828</th>\n",
              "      <td>285829</td>\n",
              "      <td>Wanita</td>\n",
              "      <td>23.0</td>\n",
              "      <td>1.0</td>\n",
              "      <td>50.0</td>\n",
              "      <td>1.0</td>\n",
              "      <td>&lt; 1 Tahun</td>\n",
              "      <td>Tidak</td>\n",
              "      <td>49751.0</td>\n",
              "      <td>152.0</td>\n",
              "      <td>226.0</td>\n",
              "      <td>0</td>\n",
              "    </tr>\n",
              "    <tr>\n",
              "      <th>285829</th>\n",
              "      <td>285830</td>\n",
              "      <td>Pria</td>\n",
              "      <td>68.0</td>\n",
              "      <td>1.0</td>\n",
              "      <td>7.0</td>\n",
              "      <td>1.0</td>\n",
              "      <td>1-2 Tahun</td>\n",
              "      <td>Tidak</td>\n",
              "      <td>30503.0</td>\n",
              "      <td>124.0</td>\n",
              "      <td>270.0</td>\n",
              "      <td>0</td>\n",
              "    </tr>\n",
              "    <tr>\n",
              "      <th>285830</th>\n",
              "      <td>285831</td>\n",
              "      <td>Pria</td>\n",
              "      <td>45.0</td>\n",
              "      <td>1.0</td>\n",
              "      <td>28.0</td>\n",
              "      <td>0.0</td>\n",
              "      <td>1-2 Tahun</td>\n",
              "      <td>Pernah</td>\n",
              "      <td>36480.0</td>\n",
              "      <td>26.0</td>\n",
              "      <td>44.0</td>\n",
              "      <td>0</td>\n",
              "    </tr>\n",
              "  </tbody>\n",
              "</table>\n",
              "<p>285831 rows × 12 columns</p>\n",
              "</div>"
            ],
            "text/plain": [
              "            id Jenis_Kelamin  ...  Lama_Berlangganan  Tertarik\n",
              "0            1        Wanita  ...               97.0         0\n",
              "1            2          Pria  ...              158.0         0\n",
              "2            3           NaN  ...              119.0         0\n",
              "3            4        Wanita  ...               63.0         0\n",
              "4            5          Pria  ...              194.0         0\n",
              "...        ...           ...  ...                ...       ...\n",
              "285826  285827        Wanita  ...              217.0         0\n",
              "285827  285828        Wanita  ...               50.0         0\n",
              "285828  285829        Wanita  ...              226.0         0\n",
              "285829  285830          Pria  ...              270.0         0\n",
              "285830  285831          Pria  ...               44.0         0\n",
              "\n",
              "[285831 rows x 12 columns]"
            ]
          },
          "metadata": {},
          "execution_count": 4
        }
      ]
    },
    {
      "cell_type": "markdown",
      "metadata": {
        "id": "jrAIHp4XLziH"
      },
      "source": [
        "# **Eksplorasi dan Persiapan Data**"
      ]
    },
    {
      "cell_type": "code",
      "metadata": {
        "id": "2dY0j2iTMLTr",
        "colab": {
          "base_uri": "https://localhost:8080/"
        },
        "outputId": "d0b88903-8f5a-47f1-9e07-81287e99deb8"
      },
      "source": [
        "#Melihat tipe data\n",
        "df.dtypes"
      ],
      "execution_count": 5,
      "outputs": [
        {
          "output_type": "execute_result",
          "data": {
            "text/plain": [
              "id                     int64\n",
              "Jenis_Kelamin         object\n",
              "Umur                 float64\n",
              "SIM                  float64\n",
              "Kode_Daerah          float64\n",
              "Sudah_Asuransi       float64\n",
              "Umur_Kendaraan        object\n",
              "Kendaraan_Rusak       object\n",
              "Premi                float64\n",
              "Kanal_Penjualan      float64\n",
              "Lama_Berlangganan    float64\n",
              "Tertarik               int64\n",
              "dtype: object"
            ]
          },
          "metadata": {},
          "execution_count": 5
        }
      ]
    },
    {
      "cell_type": "code",
      "metadata": {
        "id": "uebdotjWNiHc",
        "colab": {
          "base_uri": "https://localhost:8080/"
        },
        "outputId": "0c1c6b07-0166-47da-f1b0-ac02cf02d8ce"
      },
      "source": [
        "#Cek data noise/outlier pada data object/categorical\n",
        "print(df['Jenis_Kelamin'].value_counts(),'\\n', df['Jenis_Kelamin'].isnull().value_counts())\n",
        "print('----------------------')\n",
        "print(df['Umur_Kendaraan'].value_counts(),'\\n', df['Umur_Kendaraan'].isnull().value_counts())\n",
        "print('----------------------')\n",
        "print(df['Kendaraan_Rusak'].value_counts(),'\\n', df['Kendaraan_Rusak'].isnull().value_counts())"
      ],
      "execution_count": 6,
      "outputs": [
        {
          "output_type": "stream",
          "name": "stdout",
          "text": [
            "Pria      146678\n",
            "Wanita    124713\n",
            "Name: Jenis_Kelamin, dtype: int64 \n",
            " False    271391\n",
            "True      14440\n",
            "Name: Jenis_Kelamin, dtype: int64\n",
            "----------------------\n",
            "1-2 Tahun    142761\n",
            "< 1 Tahun    117378\n",
            "> 2 Tahun     11417\n",
            "Name: Umur_Kendaraan, dtype: int64 \n",
            " False    271556\n",
            "True      14275\n",
            "Name: Umur_Kendaraan, dtype: int64\n",
            "----------------------\n",
            "Pernah    137123\n",
            "Tidak     134520\n",
            "Name: Kendaraan_Rusak, dtype: int64 \n",
            " False    271643\n",
            "True      14188\n",
            "Name: Kendaraan_Rusak, dtype: int64\n"
          ]
        }
      ]
    },
    {
      "cell_type": "code",
      "metadata": {
        "id": "LsjYFYp2Nqd2",
        "colab": {
          "base_uri": "https://localhost:8080/"
        },
        "outputId": "a278518b-ad5f-49c5-8b03-807d53290f3e"
      },
      "source": [
        "# Cleaning data\n",
        "# Mengecek nilai null\n",
        "print(df.isna().sum(),'\\n')\n",
        "\n",
        "#Total missing value\n",
        "print('Total NaN = ',df.isna().sum().sum())\n",
        "\n",
        "#Data duplicate\n",
        "print('Data Duplicate = ',df.duplicated().sum())"
      ],
      "execution_count": 7,
      "outputs": [
        {
          "output_type": "stream",
          "name": "stdout",
          "text": [
            "id                       0\n",
            "Jenis_Kelamin        14440\n",
            "Umur                 14214\n",
            "SIM                  14404\n",
            "Kode_Daerah          14306\n",
            "Sudah_Asuransi       14229\n",
            "Umur_Kendaraan       14275\n",
            "Kendaraan_Rusak      14188\n",
            "Premi                14569\n",
            "Kanal_Penjualan      14299\n",
            "Lama_Berlangganan    13992\n",
            "Tertarik                 0\n",
            "dtype: int64 \n",
            "\n",
            "Total NaN =  142916\n",
            "Data Duplicate =  0\n"
          ]
        }
      ]
    },
    {
      "cell_type": "markdown",
      "metadata": {
        "id": "FzZ2Tlv8OPSo"
      },
      "source": [
        "Data yang kosong ada sekian banyak serta jumlah data yang memiliki nilai NaN"
      ]
    },
    {
      "cell_type": "code",
      "metadata": {
        "id": "UHy7qL-nOXRZ",
        "colab": {
          "base_uri": "https://localhost:8080/",
          "height": 520
        },
        "outputId": "892e5772-8872-4aab-b149-808776b684a8"
      },
      "source": [
        "#Cek outlier untuk kolom memiliki banyak nilai\n",
        "\n",
        "#init plot\n",
        "sns.set_theme()\n",
        "fig, ax = plt.subplots(ncols=5, figsize=(12,8))\n",
        "\n",
        "#plot\n",
        "sns.boxplot(data=df[\"Premi\"], orient='v', ax=ax[0])\n",
        "sns.boxplot(data=df[\"Umur\"], orient='v', ax=ax[1])\n",
        "sns.boxplot(data=df[\"Kode_Daerah\"], orient='v', ax=ax[2])\n",
        "sns.boxplot(data=df[\"Kanal_Penjualan\"], orient='v', ax=ax[3])\n",
        "sns.boxplot(data=df[\"Lama_Berlangganan\"], orient='v', ax=ax[4])\n",
        "\n",
        "#show\n",
        "ax[0].set_xlabel('Premi')\n",
        "ax[1].set_xlabel('Umur')\n",
        "ax[2].set_xlabel('Kode_Daerah')\n",
        "ax[3].set_xlabel('Kanal_Penjualan')\n",
        "ax[4].set_xlabel('Lama_Berlangganan')"
      ],
      "execution_count": 8,
      "outputs": [
        {
          "output_type": "execute_result",
          "data": {
            "text/plain": [
              "Text(0.5, 0, 'Lama_Berlangganan')"
            ]
          },
          "metadata": {},
          "execution_count": 8
        },
        {
          "output_type": "display_data",
          "data": {
            "image/png": "[encoded data removed]",
            "text/plain": [
              "<Figure size 864x576 with 5 Axes>"
            ]
          },
          "metadata": {}
        }
      ]
    },
    {
      "cell_type": "markdown",
      "metadata": {
        "id": "HGmt0PUPPNAW"
      },
      "source": [
        "## Data Cleaning & Transformation"
      ]
    },
    {
      "cell_type": "code",
      "metadata": {
        "id": "X3VXxZLrTOpx"
      },
      "source": [
        "#Drop colom id karena urutan dari pelangggan\n",
        "df.drop('id',inplace=True, axis=1)"
      ],
      "execution_count": 9,
      "outputs": []
    },
    {
      "cell_type": "code",
      "metadata": {
        "id": "1PLYkSVyPQlr"
      },
      "source": [
        "#Transform\n",
        "#[Nominal to Numeric] Jenis_Kelamin 0 : Wanita | 1 : Pria\n",
        "df.replace({\"Wanita\": 0, \"Pria\": 1}, inplace=True)\n",
        "df_test.replace({\"Wanita\": 0, \"Pria\": 1}, inplace=True)\n",
        "\n",
        "#[Nominal to Numeric] Umur_Kendaraan --> 1 : 1-2 Tahun | 0 : < 1 Tahun | 2 : > 2 Tahun\n",
        "df.replace({\"< 1 Tahun\": 0, \"1-2 Tahun\": 1, \"> 2 Tahun\": 2}, inplace=True)\n",
        "df_test.replace({\"< 1 Tahun\": 0, \"1-2 Tahun\": 1, \"> 2 Tahun\": 2}, inplace=True)\n",
        "\n",
        "#[Nominal to Numeric] Kendaraan_Rusak --> 0 : Tidak | 1 : Pernah\n",
        "df.replace({\"Tidak\": 0, \"Pernah\": 1}, inplace=True)\n",
        "df_test.replace({\"Tidak\": 0, \"Pernah\": 1}, inplace=True)"
      ],
      "execution_count": 10,
      "outputs": []
    },
    {
      "cell_type": "code",
      "metadata": {
        "id": "v3jXZuP6Qf6z"
      },
      "source": [
        "#Missing value handler with modus(mode)\n",
        "for col in df.columns:  \n",
        "  df[col].fillna(df[col].mode()[0], inplace=True)"
      ],
      "execution_count": 11,
      "outputs": []
    },
    {
      "cell_type": "code",
      "metadata": {
        "id": "cx7Fhm78SvJA"
      },
      "source": [
        "#Mendeteksi outlier menggunakan Inter Quantile Range(IQR)\n",
        "def ROutlier(df,column):\n",
        "    q1 = df[column].quantile(0.25)\n",
        "    q3 = df[column].quantile(0.75)\n",
        "    interq = q3-q1\n",
        "    batasBawah = q1-1.5*interq\n",
        "    batasAtas = q3+1.5*interq\n",
        "    df_out =  df.loc[(df[column] > batasBawah) & (df[column] < batasAtas)]\n",
        "    return df_out"
      ],
      "execution_count": 12,
      "outputs": []
    },
    {
      "cell_type": "code",
      "metadata": {
        "id": "rpdRp-q9S6Ht"
      },
      "source": [
        "#Remove outlier 2x (1 remove handling, 1 recheck)\n",
        "df = ROutlier(df,'Premi')\n",
        "df = ROutlier(df,'Premi')"
      ],
      "execution_count": 13,
      "outputs": []
    },
    {
      "cell_type": "code",
      "metadata": {
        "id": "wOSGXOxsS_ri",
        "colab": {
          "base_uri": "https://localhost:8080/",
          "height": 360
        },
        "outputId": "136bfa1f-9a2d-4187-d613-9ab0d3df99cc"
      },
      "source": [
        "#Outlier check\n",
        "sns.boxplot(df['Premi'])"
      ],
      "execution_count": 14,
      "outputs": [
        {
          "output_type": "stream",
          "name": "stderr",
          "text": [
            "/usr/local/lib/python3.7/dist-packages/seaborn/_decorators.py:43: FutureWarning: Pass the following variable as a keyword arg: x. From version 0.12, the only valid positional argument will be `data`, and passing other arguments without an explicit keyword will result in an error or misinterpretation.\n",
            "  FutureWarning\n"
          ]
        },
        {
          "output_type": "execute_result",
          "data": {
            "text/plain": [
              "<matplotlib.axes._subplots.AxesSubplot at 0x7fb2b3a31f90>"
            ]
          },
          "metadata": {},
          "execution_count": 14
        },
        {
          "output_type": "display_data",
          "data": {
            "image/png": "[encoded data removed]",
            "text/plain": [
              "<Figure size 432x288 with 1 Axes>"
            ]
          },
          "metadata": {}
        }
      ]
    },
    {
      "cell_type": "markdown",
      "metadata": {
        "id": "E0SUE1GxTVZT"
      },
      "source": [
        "# **Pemodelan**"
      ]
    },
    {
      "cell_type": "code",
      "metadata": {
        "id": "BcUFyASZTYC-",
        "colab": {
          "base_uri": "https://localhost:8080/",
          "height": 594
        },
        "outputId": "a2c7eafb-a378-49ca-a3b9-e160f7d3abf2"
      },
      "source": [
        "#Searching corelation feature x to 'Tertarik'\n",
        "plt.figure(figsize=(14,6))\n",
        "cor = df.corr()\n",
        "sns.heatmap(cor, annot=True)\n",
        "print(plt.show())\n",
        "\n",
        "#Correlation with output variable\n",
        "cor_target = abs(cor[\"Tertarik\"])\n",
        "\n",
        "#Selecting highly correlated features\n",
        "relevant_features = cor_target[cor_target>0.2]\n",
        "relevant_features"
      ],
      "execution_count": 15,
      "outputs": [
        {
          "output_type": "display_data",
          "data": {
            "image/png": "[encoded data removed]",
            "text/plain": [
              "<Figure size 1008x432 with 2 Axes>"
            ]
          },
          "metadata": {}
        },
        {
          "output_type": "stream",
          "name": "stdout",
          "text": [
            "None\n"
          ]
        },
        {
          "output_type": "execute_result",
          "data": {
            "text/plain": [
              "Sudah_Asuransi     0.325695\n",
              "Umur_Kendaraan     0.212195\n",
              "Kendaraan_Rusak    0.337629\n",
              "Tertarik           1.000000\n",
              "Name: Tertarik, dtype: float64"
            ]
          },
          "metadata": {},
          "execution_count": 15
        }
      ]
    },
    {
      "cell_type": "code",
      "metadata": {
        "id": "SHn1pvMeUl9F"
      },
      "source": [
        "#Getting feature importance from corr to classification to X and label to Y \n",
        "#Tahap 1\n",
        "feature_names = ['Sudah_Asuransi','Umur_Kendaraan','Kendaraan_Rusak']\n",
        "\n",
        "#Tahap 2\n",
        "#feature_names = ['Umur','Sudah_Asuransi','Umur_Kendaraan','Kendaraan_Rusak','Kanal_Penjualan']\n",
        "\n",
        "X = df[feature_names]\n",
        "y = df['Tertarik']"
      ],
      "execution_count": 16,
      "outputs": []
    },
    {
      "cell_type": "code",
      "metadata": {
        "id": "2U1Mb-u6VCgi"
      },
      "source": [
        "#Getting train and test to variable\n",
        "X_train = df[feature_names]\n",
        "X_test = df_test[feature_names]\n",
        "\n",
        "y_train = df['Tertarik']\n",
        "y_test = df_test['Tertarik']"
      ],
      "execution_count": 17,
      "outputs": []
    },
    {
      "cell_type": "markdown",
      "metadata": {
        "id": "f3mrfAo6WAhK"
      },
      "source": [
        "## Normalisasi"
      ]
    },
    {
      "cell_type": "code",
      "metadata": {
        "id": "tt3JQ8zfVFVE"
      },
      "source": [
        "# Melakukan Normalisasi\n",
        "# Data diperkecil agar lebih mudah diklasifikasikan\n",
        "scaler = MinMaxScaler()\n",
        "X_train = scaler.fit_transform(X_train)\n",
        "X_test = scaler.transform(X_test)"
      ],
      "execution_count": 18,
      "outputs": []
    },
    {
      "cell_type": "markdown",
      "metadata": {
        "id": "4wzZknU0WKxr"
      },
      "source": [
        "## K-NN Classifier"
      ]
    },
    {
      "cell_type": "markdown",
      "metadata": {
        "id": "dTl_suDZfod5"
      },
      "source": [
        "'uniform' : Semua poin di setiap lingkungan berbobot sama.\n",
        "\n",
        "Minkowski Distance : Pengukuran antar 2 titik pada ruang vektor normal yang merupakan hibridisasi yang menggeneralisasi euclidean distance dan mahattan distance."
      ]
    },
    {
      "cell_type": "code",
      "metadata": {
        "id": "cCf6YTwXV5fj",
        "colab": {
          "base_uri": "https://localhost:8080/"
        },
        "outputId": "ab69dd91-3d23-4003-f8fe-d05e63d424c5"
      },
      "source": [
        "#k-NN -> k = 5\n",
        "knn = KNeighborsClassifier(weights = 'uniform', n_neighbors = 5, metric='minkowski')\n",
        "knn.fit(X_train, y_train)\n",
        "print('Accuracy of k-NN classifier on training set: {:.2f}'\n",
        "     .format(knn.score(X_train, y_train)))\n",
        "print('Accuracy of k-NN classifier on test set: {:.2f}'\n",
        "     .format(knn.score(X_test, y_test)))"
      ],
      "execution_count": 19,
      "outputs": [
        {
          "output_type": "stream",
          "name": "stdout",
          "text": [
            "Accuracy of k-NN classifier on training set: 0.88\n",
            "Accuracy of k-NN classifier on test set: 0.88\n"
          ]
        }
      ]
    },
    {
      "cell_type": "markdown",
      "metadata": {
        "id": "PjjWyyYGXCkx"
      },
      "source": [
        "# **Evaluasi**"
      ]
    },
    {
      "cell_type": "code",
      "metadata": {
        "id": "yDVAqJFGXQFh",
        "colab": {
          "base_uri": "https://localhost:8080/"
        },
        "outputId": "00a27ffe-dcbe-412f-9937-8f9f01dea41f"
      },
      "source": [
        "#F1 Score\n",
        "ck_predict = knn.predict(X_test)\n",
        "print(\"F1-SCORE \",f1(y_test,ck_predict,average='micro'))\n",
        "print(\"F1-SCORE \",f1(y_test,ck_predict,average='macro'))"
      ],
      "execution_count": 20,
      "outputs": [
        {
          "output_type": "stream",
          "name": "stdout",
          "text": [
            "F1-SCORE  0.8769705493398267\n",
            "F1-SCORE  0.46722659002203165\n"
          ]
        }
      ]
    },
    {
      "cell_type": "markdown",
      "metadata": {
        "id": "IHdAA7m5d0fd"
      },
      "source": [
        "Nilai terbaik F1-Score adalah 1.0 dan nilai terburuknya adalah 0. Secara representasi, jika F1-Score punya skor yang baik mengindikasikan bahwa model klasifikasi kita punya precision dan recall yang baik."
      ]
    },
    {
      "cell_type": "markdown",
      "metadata": {
        "id": "Mo2mhzIjd2c-"
      },
      "source": [
        "# **Eksperimen**"
      ]
    },
    {
      "cell_type": "markdown",
      "metadata": {
        "id": "wH4yMImRhch_"
      },
      "source": [
        "k-NN sensitif terhadap keberadaan noise & irrelevant input\n",
        "\n",
        "Jangan dihapus outputannya"
      ]
    },
    {
      "cell_type": "code",
      "metadata": {
        "id": "_eMMOi_2d9Cb",
        "colab": {
          "base_uri": "https://localhost:8080/",
          "height": 395
        },
        "outputId": "6b27cb61-c2bf-46b0-a237-e4ec7dec173e"
      },
      "source": [
        "#Eksplorasi k-NN k= [1..20]\n",
        "k_range = range(1, 20)\n",
        "scores = []\n",
        "\n",
        "for k in k_range:\n",
        "    knn = KNeighborsClassifier(weights = 'uniform', n_neighbors = k, metric='minkowski')\n",
        "    knn.fit(X_train, y_train)\n",
        "    scores.append(knn.score(X_test, y_test))\n",
        "plt.figure()\n",
        "plt.xlabel('k')\n",
        "plt.ylabel('accuracy')\n",
        "plt.scatter(k_range, scores)\n",
        "plt.xticks([0,5,10,15,20])"
      ],
      "execution_count": null,
      "outputs": [
        {
          "output_type": "execute_result",
          "data": {
            "text/plain": [
              "([<matplotlib.axis.XTick at 0x7f7760b2fb50>,\n",
              "  <matplotlib.axis.XTick at 0x7f7760b2fb10>,\n",
              "  <matplotlib.axis.XTick at 0x7f7760b2f750>,\n",
              "  <matplotlib.axis.XTick at 0x7f7760ad9590>,\n",
              "  <matplotlib.axis.XTick at 0x7f7760ad9ad0>],\n",
              " <a list of 5 Text major ticklabel objects>)"
            ]
          },
          "metadata": {},
          "execution_count": 21
        },
        {
          "output_type": "display_data",
          "data": {
            "image/png": "[encoded data removed]",
            "text/plain": [
              "<Figure size 432x288 with 1 Axes>"
            ]
          },
          "metadata": {}
        }
      ]
    },
    {
      "cell_type": "markdown",
      "metadata": {
        "id": "Ewg5jq96hkl5"
      },
      "source": [
        "'distance' : bobot poin dengan kebalikan dari jarak mereka. Dalam hal ini, tetangga yang lebih dekat dari titik kueri akan memiliki pengaruh yang lebih besar daripada tetangga yang lebih jauh.\n",
        "\n",
        "Euclidean Distance : Pengukuran jarak garis lurus yang sebenarnya antara dua titik dalam ruang Euclidean."
      ]
    },
    {
      "cell_type": "code",
      "metadata": {
        "id": "MP7mLUpPhfTw",
        "colab": {
          "base_uri": "https://localhost:8080/",
          "height": 395
        },
        "outputId": "3686c78e-eb5b-4629-b6cd-657f43883616"
      },
      "source": [
        "#Eksplorasi k-NN k = [1..20]\n",
        "k_range = range(1, 20)\n",
        "scores = []\n",
        "\n",
        "for k in k_range:\n",
        "    knn = KNeighborsClassifier(weights = 'distance', n_neighbors = k, metric='euclidean')\n",
        "    knn.fit(X_train, y_train)\n",
        "    scores.append(knn.score(X_test, y_test))\n",
        "plt.figure()\n",
        "plt.xlabel('k')\n",
        "plt.ylabel('accuracy')\n",
        "plt.scatter(k_range, scores)\n",
        "plt.xticks([0,5,10,15,20])"
      ],
      "execution_count": null,
      "outputs": [
        {
          "output_type": "execute_result",
          "data": {
            "text/plain": [
              "([<matplotlib.axis.XTick at 0x7f7760954690>,\n",
              "  <matplotlib.axis.XTick at 0x7f7760954490>,\n",
              "  <matplotlib.axis.XTick at 0x7f7760aa1e90>,\n",
              "  <matplotlib.axis.XTick at 0x7f7760900cd0>,\n",
              "  <matplotlib.axis.XTick at 0x7f776090a650>],\n",
              " <a list of 5 Text major ticklabel objects>)"
            ]
          },
          "metadata": {},
          "execution_count": 28
        },
        {
          "output_type": "display_data",
          "data": {
            "image/png": "[encoded data removed]",
            "text/plain": [
              "<Figure size 432x288 with 1 Axes>"
            ]
          },
          "metadata": {}
        }
      ]
    },
    {
      "cell_type": "markdown",
      "metadata": {
        "id": "SnDEsHWkjHRW"
      },
      "source": [
        "# **References**"
      ]
    },
    {
      "cell_type": "markdown",
      "metadata": {
        "id": "nGjfcUYZjNIH"
      },
      "source": [
        "https://github.com/susanli2016/Machine-Learning-with-Python/blob/master/Solving%20A%20Simple%20Classification%20Problem%20with%20Python.ipynb\n",
        "\n",
        "https://stackabuse.com/k-nearest-neighbors-algorithm-in-python-and-scikit-learn/\n",
        "\n",
        "https://towardsdatascience.com/feature-selection-with-pandas-e3690ad8504b\n",
        "\n",
        "https://www.datacamp.com/community/tutorials/k-nearest-neighbor-classification-scikit-learn\n",
        "\n",
        "https://towardsdatascience.com/knn-using-scikit-learn-c6bed765be75\n",
        "\n",
        "https://blog.usejournal.com/a-quick-introduction-to-k-nearest-neighbors-algorithm-62214cea29c7#:~:text=KNN%20algorithm%20is%20one%20of,the%20most%20used%20learning%20algorithms.&text=KNN%20is%20a%20non%2Dparametric,of%20a%20new%20sample%20point.\n",
        "\n",
        "https://medium.com/analytics-vidhya/what-is-an-outliers-how-to-detect-and-remove-them-which-algorithm-are-sensitive-towards-outliers-2d501993d59\n",
        "\n",
        "https://media.neliti.com/media/publications/270379-pengaruh-nilai-k-pada-metode-k-nearest-n-5fa222aa.pdf\n",
        "\n",
        "https://blog.sanbercode.com/docs/materi-eda/data-type-missing-value-outlier/\n",
        "\n",
        "https://tentangdata.wordpress.com/2015/09/16/knn-perhitungan-jarak-serta-keunggulan-dan-batasan/\n",
        "\n",
        "https://ilmudatapy.com/menangani-missing-values/\n",
        "\n",
        "https://media.neliti.com/media/publications/270379-pengaruh-nilai-k-pada-metode-k-nearest-n-5fa222aa.pdf"
      ]
    }
  ]
}